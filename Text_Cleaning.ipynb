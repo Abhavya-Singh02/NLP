{
  "nbformat": 4,
  "nbformat_minor": 0,
  "metadata": {
    "colab": {
      "provenance": [],
      "authorship_tag": "ABX9TyPWAOTf7dYxqZoDPXRe6uqM",
      "include_colab_link": true
    },
    "kernelspec": {
      "name": "python3",
      "display_name": "Python 3"
    },
    "language_info": {
      "name": "python"
    }
  },
  "cells": [
    {
      "cell_type": "markdown",
      "metadata": {
        "id": "view-in-github",
        "colab_type": "text"
      },
      "source": [
        "<a href=\"https://colab.research.google.com/github/Abhavya-Singh02/NLP/blob/main/Text_Cleaning.ipynb\" target=\"_parent\"><img src=\"https://colab.research.google.com/assets/colab-badge.svg\" alt=\"Open In Colab\"/></a>"
      ]
    },
    {
      "cell_type": "markdown",
      "source": [
        "# Removing HTML Tags"
      ],
      "metadata": {
        "id": "eFhjwnUyH6hU"
      }
    },
    {
      "cell_type": "code",
      "execution_count": null,
      "metadata": {
        "id": "BmmnBSEAHfIS"
      },
      "outputs": [],
      "source": [
        "sampleText = '<h2>Hi! Abhavya Komal Muskan Shruti</h2><p> ding dong ding</p>'"
      ]
    },
    {
      "cell_type": "code",
      "source": [
        "sampleText"
      ],
      "metadata": {
        "colab": {
          "base_uri": "https://localhost:8080/",
          "height": 36
        },
        "id": "V5OBtmg7H5f6",
        "outputId": "de4bef8f-3df2-4604-8fd3-e25c8268a97e"
      },
      "execution_count": null,
      "outputs": [
        {
          "output_type": "execute_result",
          "data": {
            "text/plain": [
              "'<h2>Hi! Abhavya Komal Muskan Shruti</h2><p> ding dong ding</p>'"
            ],
            "application/vnd.google.colaboratory.intrinsic+json": {
              "type": "string"
            }
          },
          "metadata": {},
          "execution_count": 39
        }
      ]
    },
    {
      "cell_type": "code",
      "source": [
        "import re\n",
        "def striphtml(text):\n",
        "  p = re.compile(r'<.*?>')\n",
        "  return p.sub('',text)"
      ],
      "metadata": {
        "id": "PpEhYM7cH_qT"
      },
      "execution_count": null,
      "outputs": []
    },
    {
      "cell_type": "code",
      "source": [
        "striphtml(sampleText)"
      ],
      "metadata": {
        "colab": {
          "base_uri": "https://localhost:8080/",
          "height": 36
        },
        "id": "rv0knbNmIReC",
        "outputId": "d2f46605-37af-4851-b9cf-df200d094ffb"
      },
      "execution_count": null,
      "outputs": [
        {
          "output_type": "execute_result",
          "data": {
            "text/plain": [
              "'Hi! Abhavya Komal Muskan Shruti ding dong ding'"
            ],
            "application/vnd.google.colaboratory.intrinsic+json": {
              "type": "string"
            }
          },
          "metadata": {},
          "execution_count": 41
        }
      ]
    },
    {
      "cell_type": "markdown",
      "source": [
        "# Unicode Normalization"
      ],
      "metadata": {
        "id": "hmHF7ZmYJAZ-"
      }
    },
    {
      "cell_type": "code",
      "source": [
        "emojiText = \"\"\"Hello! Here is your sentence with emojis:\n",
        "The weekend is almost here! 🎉😎☀️\"\"\""
      ],
      "metadata": {
        "id": "RDllXqFiIVtd"
      },
      "execution_count": null,
      "outputs": []
    },
    {
      "cell_type": "code",
      "source": [
        "emojiText"
      ],
      "metadata": {
        "colab": {
          "base_uri": "https://localhost:8080/",
          "height": 36
        },
        "id": "1wG2UNu1IyXG",
        "outputId": "0e49a1da-3c83-4b4a-86e3-f0390a2a791f"
      },
      "execution_count": null,
      "outputs": [
        {
          "output_type": "execute_result",
          "data": {
            "text/plain": [
              "'Hello! Here is your sentence with emojis:\\nThe weekend is almost here! 🎉😎☀️'"
            ],
            "application/vnd.google.colaboratory.intrinsic+json": {
              "type": "string"
            }
          },
          "metadata": {},
          "execution_count": 43
        }
      ]
    },
    {
      "cell_type": "code",
      "source": [
        "emojiText.encode('utf-8')"
      ],
      "metadata": {
        "colab": {
          "base_uri": "https://localhost:8080/"
        },
        "id": "sFLb2Lc8Iz7b",
        "outputId": "085f3d0a-371d-49a2-83ad-4aeac200f008"
      },
      "execution_count": null,
      "outputs": [
        {
          "output_type": "execute_result",
          "data": {
            "text/plain": [
              "b'Hello! Here is your sentence with emojis:\\nThe weekend is almost here! \\xf0\\x9f\\x8e\\x89\\xf0\\x9f\\x98\\x8e\\xe2\\x98\\x80\\xef\\xb8\\x8f'"
            ]
          },
          "metadata": {},
          "execution_count": 44
        }
      ]
    },
    {
      "cell_type": "markdown",
      "source": [
        "# Spell Checker"
      ],
      "metadata": {
        "id": "KpRvtBstJEeX"
      }
    },
    {
      "cell_type": "code",
      "source": [
        "incorrect = 'They are gorng to the store to buy soms milk.'"
      ],
      "metadata": {
        "id": "nyOO6HBbI7FR"
      },
      "execution_count": null,
      "outputs": []
    },
    {
      "cell_type": "code",
      "source": [
        "from textblob import TextBlob\n",
        "\n",
        "textBlb = TextBlob(incorrect)\n",
        "\n",
        "textBlb.correct()"
      ],
      "metadata": {
        "colab": {
          "base_uri": "https://localhost:8080/"
        },
        "id": "JaLbtiXkJWdb",
        "outputId": "276da811-109b-4ae7-c562-8b5fea8ab6ae"
      },
      "execution_count": null,
      "outputs": [
        {
          "output_type": "execute_result",
          "data": {
            "text/plain": [
              "TextBlob(\"They are going to the store to buy some milk.\")"
            ]
          },
          "metadata": {},
          "execution_count": 46
        }
      ]
    },
    {
      "cell_type": "markdown",
      "source": [
        "# Tokenization"
      ],
      "metadata": {
        "id": "B4rqBrmYJ3OJ"
      }
    },
    {
      "cell_type": "code",
      "source": [
        "dummy = \"Lorem ipsum dolor sit amet, consectetur adipiscing elit, sed do eiusmod tempor incididunt ut labore et dolore magna aliqua. Lorem ipsum dolor sit amet, consectetur adipiscing elit, sed do eiusmod tempor incididunt ut labore et dolore magna aliqua. Lorem ipsum dolor sit amet, consectetur adipiscing elit, sed do eiusmod tempor incididunt ut labore et dolore magna aliqua.\""
      ],
      "metadata": {
        "id": "YcrV7FrSJhL7"
      },
      "execution_count": null,
      "outputs": []
    },
    {
      "cell_type": "code",
      "source": [
        "import nltk\n",
        "nltk.download('punkt_tab')"
      ],
      "metadata": {
        "colab": {
          "base_uri": "https://localhost:8080/"
        },
        "id": "d5M44CTyKg7U",
        "outputId": "308ac9dc-411a-4a32-bbee-84b65f960ab4"
      },
      "execution_count": null,
      "outputs": [
        {
          "output_type": "stream",
          "name": "stderr",
          "text": [
            "[nltk_data] Downloading package punkt_tab to /root/nltk_data...\n",
            "[nltk_data]   Package punkt_tab is already up-to-date!\n"
          ]
        },
        {
          "output_type": "execute_result",
          "data": {
            "text/plain": [
              "True"
            ]
          },
          "metadata": {},
          "execution_count": 48
        }
      ]
    },
    {
      "cell_type": "code",
      "source": [
        "from nltk.tokenize import sent_tokenize, word_tokenize"
      ],
      "metadata": {
        "id": "gIG15qkMKDhw"
      },
      "execution_count": null,
      "outputs": []
    },
    {
      "cell_type": "code",
      "source": [
        "sents = sent_tokenize(dummy)"
      ],
      "metadata": {
        "id": "ssz2GHYAKSyT"
      },
      "execution_count": null,
      "outputs": []
    },
    {
      "cell_type": "code",
      "source": [
        "sents"
      ],
      "metadata": {
        "colab": {
          "base_uri": "https://localhost:8080/"
        },
        "id": "IZtYU29aK-gC",
        "outputId": "36ee39f2-0841-4c38-9f23-aebe6e240332"
      },
      "execution_count": null,
      "outputs": [
        {
          "output_type": "execute_result",
          "data": {
            "text/plain": [
              "['Lorem ipsum dolor sit amet, consectetur adipiscing elit, sed do eiusmod tempor incididunt ut labore et dolore magna aliqua.',\n",
              " 'Lorem ipsum dolor sit amet, consectetur adipiscing elit, sed do eiusmod tempor incididunt ut labore et dolore magna aliqua.',\n",
              " 'Lorem ipsum dolor sit amet, consectetur adipiscing elit, sed do eiusmod tempor incididunt ut labore et dolore magna aliqua.']"
            ]
          },
          "metadata": {},
          "execution_count": 51
        }
      ]
    },
    {
      "cell_type": "code",
      "source": [
        "words = word_tokenize(dummy)\n",
        "words"
      ],
      "metadata": {
        "colab": {
          "base_uri": "https://localhost:8080/"
        },
        "collapsed": true,
        "id": "3JTRaN0OKZKi",
        "outputId": "7d5dcd45-e7db-4aff-a451-943b8c89ad3b"
      },
      "execution_count": null,
      "outputs": [
        {
          "output_type": "execute_result",
          "data": {
            "text/plain": [
              "['Lorem',\n",
              " 'ipsum',\n",
              " 'dolor',\n",
              " 'sit',\n",
              " 'amet',\n",
              " ',',\n",
              " 'consectetur',\n",
              " 'adipiscing',\n",
              " 'elit',\n",
              " ',',\n",
              " 'sed',\n",
              " 'do',\n",
              " 'eiusmod',\n",
              " 'tempor',\n",
              " 'incididunt',\n",
              " 'ut',\n",
              " 'labore',\n",
              " 'et',\n",
              " 'dolore',\n",
              " 'magna',\n",
              " 'aliqua',\n",
              " '.',\n",
              " 'Lorem',\n",
              " 'ipsum',\n",
              " 'dolor',\n",
              " 'sit',\n",
              " 'amet',\n",
              " ',',\n",
              " 'consectetur',\n",
              " 'adipiscing',\n",
              " 'elit',\n",
              " ',',\n",
              " 'sed',\n",
              " 'do',\n",
              " 'eiusmod',\n",
              " 'tempor',\n",
              " 'incididunt',\n",
              " 'ut',\n",
              " 'labore',\n",
              " 'et',\n",
              " 'dolore',\n",
              " 'magna',\n",
              " 'aliqua',\n",
              " '.',\n",
              " 'Lorem',\n",
              " 'ipsum',\n",
              " 'dolor',\n",
              " 'sit',\n",
              " 'amet',\n",
              " ',',\n",
              " 'consectetur',\n",
              " 'adipiscing',\n",
              " 'elit',\n",
              " ',',\n",
              " 'sed',\n",
              " 'do',\n",
              " 'eiusmod',\n",
              " 'tempor',\n",
              " 'incididunt',\n",
              " 'ut',\n",
              " 'labore',\n",
              " 'et',\n",
              " 'dolore',\n",
              " 'magna',\n",
              " 'aliqua',\n",
              " '.']"
            ]
          },
          "metadata": {},
          "execution_count": 36
        }
      ]
    },
    {
      "cell_type": "code",
      "source": [
        "for sent in sents:\n",
        "  print(word_tokenize(sent))"
      ],
      "metadata": {
        "colab": {
          "base_uri": "https://localhost:8080/"
        },
        "id": "_bmM3uT-KpHJ",
        "outputId": "9217cafc-f94a-4a6a-b07c-0908e93a2c24"
      },
      "execution_count": null,
      "outputs": [
        {
          "output_type": "stream",
          "name": "stdout",
          "text": [
            "['Lorem', 'ipsum', 'dolor', 'sit', 'amet', ',', 'consectetur', 'adipiscing', 'elit', ',', 'sed', 'do', 'eiusmod', 'tempor', 'incididunt', 'ut', 'labore', 'et', 'dolore', 'magna', 'aliqua', '.']\n",
            "['Lorem', 'ipsum', 'dolor', 'sit', 'amet', ',', 'consectetur', 'adipiscing', 'elit', ',', 'sed', 'do', 'eiusmod', 'tempor', 'incididunt', 'ut', 'labore', 'et', 'dolore', 'magna', 'aliqua', '.']\n",
            "['Lorem', 'ipsum', 'dolor', 'sit', 'amet', ',', 'consectetur', 'adipiscing', 'elit', ',', 'sed', 'do', 'eiusmod', 'tempor', 'incididunt', 'ut', 'labore', 'et', 'dolore', 'magna', 'aliqua', '.']\n"
          ]
        }
      ]
    },
    {
      "cell_type": "code",
      "source": [],
      "metadata": {
        "id": "XU6oHnf-LLxZ"
      },
      "execution_count": null,
      "outputs": []
    }
  ]
}